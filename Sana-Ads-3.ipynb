{
 "cells": [
  {
   "cell_type": "code",
   "execution_count": 88,
   "id": "bd4fd047",
   "metadata": {},
   "outputs": [],
   "source": [
    "#import the necessary libraries\n",
    "import numpy as np\n",
    "import pandas as pd\n",
    "from pandas_datareader import wb\n",
    "import seaborn as sns\n",
    "from sklearn import preprocessing\n",
    "from sklearn.mixture import GaussianMixture\n",
    "import matplotlib.pyplot as plt\n",
    "import seaborn as sns \n",
    "from scipy.optimize import curve_fit\n",
    "from numpy import arange\n"
   ]
  },
  {
   "cell_type": "code",
   "execution_count": 5,
   "id": "50889d46",
   "metadata": {},
   "outputs": [],
   "source": [
    "CO2_per_dallar_of_GDP = ['EN.ATM.CO2E.PP.GD.KD']\n",
    "GDP_per_capita = ['NY.GDP.PCAP.CD']\n",
    "CO2_production_per_head =['EN.ATM.CO2E.PC']\n",
    "indicators = ['EN.ATM.CO2E.PP.GD.KD','NY.GDP.PCAP.CD','EN.ATM.CO2E.PC']\n",
    "columns = ['CO2_per_dallar_of_GDP','GDP_per_capita','CO2_production_per_head']\n"
   ]
  },
  {
   "cell_type": "code",
   "execution_count": 6,
   "id": "625da212",
   "metadata": {},
   "outputs": [],
   "source": [
    "#countries to be considered\n",
    "countries=[\"USA\",\"DEU\",\"CHN\",\"CAN\",\"FRA\",\"BRA\",\"MEX\",\"JPN\",\"IND\",\"DZA\",\"IDN\",\"GBR\",\"ESP\",\"SWE\"]"
   ]
  },
  {
   "cell_type": "code",
   "execution_count": 42,
   "id": "aec6ac71",
   "metadata": {},
   "outputs": [],
   "source": [
    "def data_set(filename):\n",
    "    data = wb.download(indicator=filename, country=countries,start = 2010, end =2022).dropna() #download the data from worldbank\n",
    "    data.columns = columns\n",
    "    dataset = data.reset_index()\n",
    "    dataset_2 = dataset[['year','country','CO2_per_dallar_of_GDP','GDP_per_capita','CO2_production_per_head']]\n",
    "    \n",
    "    return dataset_2"
   ]
  },
  {
   "cell_type": "code",
   "execution_count": 43,
   "id": "ba267ee5",
   "metadata": {},
   "outputs": [],
   "source": [
    "data_wb = data_set(indicators)"
   ]
  },
  {
   "cell_type": "code",
   "execution_count": 44,
   "id": "b30d0b6e",
   "metadata": {},
   "outputs": [
    {
     "data": {
      "text/html": [
       "<div>\n",
       "<style scoped>\n",
       "    .dataframe tbody tr th:only-of-type {\n",
       "        vertical-align: middle;\n",
       "    }\n",
       "\n",
       "    .dataframe tbody tr th {\n",
       "        vertical-align: top;\n",
       "    }\n",
       "\n",
       "    .dataframe thead th {\n",
       "        text-align: right;\n",
       "    }\n",
       "</style>\n",
       "<table border=\"1\" class=\"dataframe\">\n",
       "  <thead>\n",
       "    <tr style=\"text-align: right;\">\n",
       "      <th></th>\n",
       "      <th>year</th>\n",
       "      <th>country</th>\n",
       "      <th>CO2_per_dallar_of_GDP</th>\n",
       "      <th>GDP_per_capita</th>\n",
       "      <th>CO2_production_per_head</th>\n",
       "    </tr>\n",
       "  </thead>\n",
       "  <tbody>\n",
       "    <tr>\n",
       "      <th>0</th>\n",
       "      <td>2018</td>\n",
       "      <td>Brazil</td>\n",
       "      <td>0.139204</td>\n",
       "      <td>9151.381732</td>\n",
       "      <td>2.041874</td>\n",
       "    </tr>\n",
       "    <tr>\n",
       "      <th>1</th>\n",
       "      <td>2017</td>\n",
       "      <td>Brazil</td>\n",
       "      <td>0.149017</td>\n",
       "      <td>9928.675897</td>\n",
       "      <td>2.164422</td>\n",
       "    </tr>\n",
       "    <tr>\n",
       "      <th>2</th>\n",
       "      <td>2016</td>\n",
       "      <td>Brazil</td>\n",
       "      <td>0.148327</td>\n",
       "      <td>8710.063290</td>\n",
       "      <td>2.143498</td>\n",
       "    </tr>\n",
       "    <tr>\n",
       "      <th>3</th>\n",
       "      <td>2015</td>\n",
       "      <td>Brazil</td>\n",
       "      <td>0.155824</td>\n",
       "      <td>8813.989806</td>\n",
       "      <td>2.347366</td>\n",
       "    </tr>\n",
       "    <tr>\n",
       "      <th>4</th>\n",
       "      <td>2014</td>\n",
       "      <td>Brazil</td>\n",
       "      <td>0.158695</td>\n",
       "      <td>12112.834955</td>\n",
       "      <td>2.499362</td>\n",
       "    </tr>\n",
       "  </tbody>\n",
       "</table>\n",
       "</div>"
      ],
      "text/plain": [
       "   year country  CO2_per_dallar_of_GDP  GDP_per_capita  \\\n",
       "0  2018  Brazil               0.139204     9151.381732   \n",
       "1  2017  Brazil               0.149017     9928.675897   \n",
       "2  2016  Brazil               0.148327     8710.063290   \n",
       "3  2015  Brazil               0.155824     8813.989806   \n",
       "4  2014  Brazil               0.158695    12112.834955   \n",
       "\n",
       "   CO2_production_per_head  \n",
       "0                 2.041874  \n",
       "1                 2.164422  \n",
       "2                 2.143498  \n",
       "3                 2.347366  \n",
       "4                 2.499362  "
      ]
     },
     "execution_count": 44,
     "metadata": {},
     "output_type": "execute_result"
    }
   ],
   "source": [
    "data_wb.head()"
   ]
  },
  {
   "cell_type": "code",
   "execution_count": 47,
   "id": "73bb1cc5",
   "metadata": {},
   "outputs": [],
   "source": [
    "def norm(X):\n",
    "    dat = X[['year','country']]\n",
    "    data= X[['CO2_per_dallar_of_GDP','GDP_per_capita','CO2_production_per_head']]\n",
    "    columns = data.columns\n",
    "    d = preprocessing.normalize(data)\n",
    "    data_norm = pd.DataFrame(d, columns=columns)\n",
    "    norm_data = pd.concat([dat,data_norm], axis=1, join='inner')\n",
    "    return norm_data\n",
    "   \n",
    "    \n",
    "    "
   ]
  },
  {
   "cell_type": "code",
   "execution_count": 49,
   "id": "66aae0f1",
   "metadata": {},
   "outputs": [
    {
     "data": {
      "text/html": [
       "<div>\n",
       "<style scoped>\n",
       "    .dataframe tbody tr th:only-of-type {\n",
       "        vertical-align: middle;\n",
       "    }\n",
       "\n",
       "    .dataframe tbody tr th {\n",
       "        vertical-align: top;\n",
       "    }\n",
       "\n",
       "    .dataframe thead th {\n",
       "        text-align: right;\n",
       "    }\n",
       "</style>\n",
       "<table border=\"1\" class=\"dataframe\">\n",
       "  <thead>\n",
       "    <tr style=\"text-align: right;\">\n",
       "      <th></th>\n",
       "      <th>year</th>\n",
       "      <th>country</th>\n",
       "      <th>CO2_per_dallar_of_GDP</th>\n",
       "      <th>GDP_per_capita</th>\n",
       "      <th>CO2_production_per_head</th>\n",
       "    </tr>\n",
       "  </thead>\n",
       "  <tbody>\n",
       "    <tr>\n",
       "      <th>0</th>\n",
       "      <td>2018</td>\n",
       "      <td>Brazil</td>\n",
       "      <td>0.000015</td>\n",
       "      <td>1.0</td>\n",
       "      <td>0.000223</td>\n",
       "    </tr>\n",
       "    <tr>\n",
       "      <th>1</th>\n",
       "      <td>2017</td>\n",
       "      <td>Brazil</td>\n",
       "      <td>0.000015</td>\n",
       "      <td>1.0</td>\n",
       "      <td>0.000218</td>\n",
       "    </tr>\n",
       "    <tr>\n",
       "      <th>2</th>\n",
       "      <td>2016</td>\n",
       "      <td>Brazil</td>\n",
       "      <td>0.000017</td>\n",
       "      <td>1.0</td>\n",
       "      <td>0.000246</td>\n",
       "    </tr>\n",
       "    <tr>\n",
       "      <th>3</th>\n",
       "      <td>2015</td>\n",
       "      <td>Brazil</td>\n",
       "      <td>0.000018</td>\n",
       "      <td>1.0</td>\n",
       "      <td>0.000266</td>\n",
       "    </tr>\n",
       "    <tr>\n",
       "      <th>4</th>\n",
       "      <td>2014</td>\n",
       "      <td>Brazil</td>\n",
       "      <td>0.000013</td>\n",
       "      <td>1.0</td>\n",
       "      <td>0.000206</td>\n",
       "    </tr>\n",
       "  </tbody>\n",
       "</table>\n",
       "</div>"
      ],
      "text/plain": [
       "   year country  CO2_per_dallar_of_GDP  GDP_per_capita  \\\n",
       "0  2018  Brazil               0.000015             1.0   \n",
       "1  2017  Brazil               0.000015             1.0   \n",
       "2  2016  Brazil               0.000017             1.0   \n",
       "3  2015  Brazil               0.000018             1.0   \n",
       "4  2014  Brazil               0.000013             1.0   \n",
       "\n",
       "   CO2_production_per_head  \n",
       "0                 0.000223  \n",
       "1                 0.000218  \n",
       "2                 0.000246  \n",
       "3                 0.000266  \n",
       "4                 0.000206  "
      ]
     },
     "execution_count": 49,
     "metadata": {},
     "output_type": "execute_result"
    }
   ],
   "source": [
    "norm_data = norm(data_wb)\n",
    "norm_data.head()"
   ]
  },
  {
   "cell_type": "code",
   "execution_count": 72,
   "id": "f13e8d17",
   "metadata": {},
   "outputs": [],
   "source": [
    "# using the gaussian mixture model\n",
    "from sklearn.mixture import GaussianMixture"
   ]
  },
  {
   "cell_type": "code",
   "execution_count": 81,
   "id": "d5fb5cd7",
   "metadata": {},
   "outputs": [],
   "source": [
    "X = norm_data[['year', 'CO2_per_dallar_of_GDP']].copy()"
   ]
  },
  {
   "cell_type": "code",
   "execution_count": 82,
   "id": "a6993228",
   "metadata": {},
   "outputs": [
    {
     "data": {
      "text/plain": [
       "GaussianMixture(n_components=4)"
      ]
     },
     "execution_count": 82,
     "metadata": {},
     "output_type": "execute_result"
    }
   ],
   "source": [
    "n_clusters = 4\n",
    "gmm_model = GaussianMixture(n_components=n_clusters)\n",
    "gmm_model.fit(X)"
   ]
  },
  {
   "cell_type": "code",
   "execution_count": 83,
   "id": "c60fa6b4",
   "metadata": {},
   "outputs": [],
   "source": [
    "cluster_labels = gmm_model.predict(X)\n",
    "X = pd.DataFrame(X)\n",
    "X['cluster'] = cluster_labels"
   ]
  },
  {
   "cell_type": "code",
   "execution_count": 84,
   "id": "7411afa9",
   "metadata": {},
   "outputs": [
    {
     "data": {
      "text/html": [
       "<div>\n",
       "<style scoped>\n",
       "    .dataframe tbody tr th:only-of-type {\n",
       "        vertical-align: middle;\n",
       "    }\n",
       "\n",
       "    .dataframe tbody tr th {\n",
       "        vertical-align: top;\n",
       "    }\n",
       "\n",
       "    .dataframe thead th {\n",
       "        text-align: right;\n",
       "    }\n",
       "</style>\n",
       "<table border=\"1\" class=\"dataframe\">\n",
       "  <thead>\n",
       "    <tr style=\"text-align: right;\">\n",
       "      <th></th>\n",
       "      <th>year</th>\n",
       "      <th>CO2_per_dallar_of_GDP</th>\n",
       "      <th>cluster</th>\n",
       "    </tr>\n",
       "  </thead>\n",
       "  <tbody>\n",
       "    <tr>\n",
       "      <th>0</th>\n",
       "      <td>2018</td>\n",
       "      <td>0.000015</td>\n",
       "      <td>0</td>\n",
       "    </tr>\n",
       "    <tr>\n",
       "      <th>1</th>\n",
       "      <td>2017</td>\n",
       "      <td>0.000015</td>\n",
       "      <td>0</td>\n",
       "    </tr>\n",
       "    <tr>\n",
       "      <th>2</th>\n",
       "      <td>2016</td>\n",
       "      <td>0.000017</td>\n",
       "      <td>3</td>\n",
       "    </tr>\n",
       "    <tr>\n",
       "      <th>3</th>\n",
       "      <td>2015</td>\n",
       "      <td>0.000018</td>\n",
       "      <td>3</td>\n",
       "    </tr>\n",
       "    <tr>\n",
       "      <th>4</th>\n",
       "      <td>2014</td>\n",
       "      <td>0.000013</td>\n",
       "      <td>1</td>\n",
       "    </tr>\n",
       "  </tbody>\n",
       "</table>\n",
       "</div>"
      ],
      "text/plain": [
       "   year  CO2_per_dallar_of_GDP  cluster\n",
       "0  2018               0.000015        0\n",
       "1  2017               0.000015        0\n",
       "2  2016               0.000017        3\n",
       "3  2015               0.000018        3\n",
       "4  2014               0.000013        1"
      ]
     },
     "execution_count": 84,
     "metadata": {},
     "output_type": "execute_result"
    }
   ],
   "source": [
    "X.head()"
   ]
  },
  {
   "cell_type": "code",
   "execution_count": 77,
   "id": "fa85089d",
   "metadata": {},
   "outputs": [],
   "source": [
    "color = ['red','blue','orange','green']"
   ]
  },
  {
   "cell_type": "code",
   "execution_count": 86,
   "id": "45c596fd",
   "metadata": {},
   "outputs": [
    {
     "data": {
      "image/png": "[encoded data removed]",
      "text/plain": [
       "<Figure size 432x288 with 1 Axes>"
      ]
     },
     "metadata": {
      "needs_background": "light"
     },
     "output_type": "display_data"
    }
   ],
   "source": [
    "for k in range(0,n_clusters):\n",
    "    data = X[X[\"cluster\"]==k]\n",
    "    plt.scatter(data[\"year\"],data[\"CO2_per_dallar_of_GDP\"],c=color[k])\n",
    "    \n",
    "    \n",
    "plt.title(\"Clusters Identified by Guassian Mixture Model\")    \n",
    "plt.ylabel(\"CO2_per_dallar_of_GDP\")\n",
    "plt.xlabel(\"year\")\n",
    "plt.show()"
   ]
  },
  {
   "cell_type": "code",
   "execution_count": 176,
   "id": "aaa065d6",
   "metadata": {},
   "outputs": [
    {
     "name": "stdout",
     "output_type": "stream",
     "text": [
      "y = 0.06509 * x + 76.56151 * x^2 + -0.00001\n"
     ]
    }
   ],
   "source": [
    "\n",
    "#curve _fit\n",
    "# fit a second degree polynomial to the economic data\n",
    "# define the true objective function\n",
    "def objective(x, a, b, c):\n",
    "    return a * x + b * x**2 + c\n",
    "\n",
    "# choose the input and output variables\n",
    "x, y = norm_data['CO2_production_per_head' ], norm_data['CO2_per_dallar_of_GDP']\n",
    "\n",
    "# curve fit\n",
    "popt, _ = curve_fit(objective, x, y)\n",
    "\n",
    "# summarize the parameter values\n",
    "a, b, c = popt\n",
    "#The model is as:\n",
    "print('y = %.5f * x + %.5f * x^2 + %.5f' % (a, b, c))\n"
   ]
  },
  {
   "cell_type": "code",
   "execution_count": null,
   "id": "f0201837",
   "metadata": {},
   "outputs": [],
   "source": [
    "#confidence_ranges\n",
    "h=max(x)-min(x)\n",
    "x_line = arange(min(x), max(x),h/40)\n",
    "x_line"
   ]
  },
  {
   "cell_type": "code",
   "execution_count": 171,
   "id": "70a98fca",
   "metadata": {},
   "outputs": [
    {
     "data": {
      "text/plain": [
       "array([6.48116874e-05, 9.79800171e-05, 1.31148347e-04, 1.64316677e-04,\n",
       "       1.97485006e-04, 2.30653336e-04, 2.63821666e-04, 2.96989995e-04,\n",
       "       3.30158325e-04, 3.63326655e-04, 3.96494984e-04, 4.29663314e-04,\n",
       "       4.62831644e-04, 4.95999974e-04, 5.29168303e-04, 5.62336633e-04,\n",
       "       5.95504963e-04, 6.28673292e-04, 6.61841622e-04, 6.95009952e-04,\n",
       "       7.28178281e-04, 7.61346611e-04, 7.94514941e-04, 8.27683270e-04,\n",
       "       8.60851600e-04, 8.94019930e-04, 9.27188260e-04, 9.60356589e-04,\n",
       "       9.93524919e-04, 1.02669325e-03, 1.05986158e-03, 1.09302991e-03,\n",
       "       1.12619824e-03, 1.15936657e-03, 1.19253490e-03, 1.22570323e-03,\n",
       "       1.25887156e-03, 1.29203989e-03, 1.32520822e-03, 1.35837655e-03])"
      ]
     },
     "execution_count": 171,
     "metadata": {},
     "output_type": "execute_result"
    }
   ],
   "source": [
    "# define a sequence of inputs between the smallest and largest known inputs\n",
    "# forty value s selected\n",
    "h=max(x)-min(x)\n",
    "x_line = arange(min(x), max(x),h/40)\n",
    "#x_line"
   ]
  },
  {
   "cell_type": "code",
   "execution_count": 172,
   "id": "4c78b324",
   "metadata": {},
   "outputs": [
    {
     "data": {
      "text/plain": [
       "array([-6.01638669e-06, -3.44400575e-06, -7.03168342e-07,  2.20612553e-06,\n",
       "        5.28387587e-06,  8.53008268e-06,  1.19447460e-05,  1.55278657e-05,\n",
       "        1.92794419e-05,  2.31994746e-05,  2.72879637e-05,  3.15449093e-05,\n",
       "        3.59703114e-05,  4.05641700e-05,  4.53264850e-05,  5.02572565e-05,\n",
       "        5.53564844e-05,  6.06241688e-05,  6.60603097e-05,  7.16649070e-05,\n",
       "        7.74379609e-05,  8.33794711e-05,  8.94894379e-05,  9.57678611e-05,\n",
       "        1.02214741e-04,  1.08830077e-04,  1.15613870e-04,  1.22566119e-04,\n",
       "        1.29686824e-04,  1.36975986e-04,  1.44433605e-04,  1.52059680e-04,\n",
       "        1.59854211e-04,  1.67817199e-04,  1.75948643e-04,  1.84248544e-04,\n",
       "        1.92716901e-04,  2.01353715e-04,  2.10158985e-04,  2.19132712e-04])"
      ]
     },
     "execution_count": 172,
     "metadata": {},
     "output_type": "execute_result"
    }
   ],
   "source": [
    "# calculate the output for the range\n",
    "y_line = objective(x_line, a, b, c)\n",
    "#y_line"
   ]
  },
  {
   "cell_type": "code",
   "execution_count": 175,
   "id": "a7e0ab13",
   "metadata": {},
   "outputs": [
    {
     "data": {
      "image/png": "[encoded data removed]",
      "text/plain": [
       "<Figure size 432x288 with 1 Axes>"
      ]
     },
     "metadata": {
      "needs_background": "light"
     },
     "output_type": "display_data"
    }
   ],
   "source": [
    "# create a line plot for the mapping function\n",
    "# plot input vs output\n",
    "plt.scatter(x, y)\n",
    "plt.plot(x_line, y_line, '--', color='red')\n",
    "plt.title(\"second degree polynomial for the CO2_production_per_head against CO2_per_dallar_of_GDP \")    \n",
    "plt.ylabel(\"CO2_per_dallar_of_GDP\")\n",
    "plt.xlabel(\"CO2_production_per_head\")\n",
    "\n",
    "plt.show()"
   ]
  },
  {
   "cell_type": "code",
   "execution_count": null,
   "id": "3d061436",
   "metadata": {},
   "outputs": [],
   "source": []
  },
  {
   "cell_type": "code",
   "execution_count": null,
   "id": "85fd7413",
   "metadata": {},
   "outputs": [],
   "source": []
  },
  {
   "cell_type": "code",
   "execution_count": null,
   "id": "4b70abb6",
   "metadata": {},
   "outputs": [],
   "source": []
  }
 ],
 "metadata": {
  "kernelspec": {
   "display_name": "Python 3 (ipykernel)",
   "language": "python",
   "name": "python3"
  },
  "language_info": {
   "codemirror_mode": {
    "name": "ipython",
    "version": 3
   },
   "file_extension": ".py",
   "mimetype": "text/x-python",
   "name": "python",
   "nbconvert_exporter": "python",
   "pygments_lexer": "ipython3",
   "version": "3.9.7"
  }
 },
 "nbformat": 4,
 "nbformat_minor": 5
}
